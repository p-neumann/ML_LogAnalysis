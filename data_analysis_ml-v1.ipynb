{
 "cells": [
  {
   "cell_type": "markdown",
   "metadata": {},
   "source": [
    "import dependencies"
   ]
  },
  {
   "cell_type": "code",
   "execution_count": 1,
   "metadata": {},
   "outputs": [],
   "source": [
    "import seaborn as sns\n",
    "import matplotlib.pyplot as plt\n",
    "import pandas as pd\n",
    "from pandas import read_csv\n",
    "from pandas.plotting import scatter_matrix\n",
    "import csv\n",
    "import numpy as np\n",
    "import matplotlib.pyplot as plt\n",
    "from scipy import linalg\n",
    "from sklearn.decomposition import PCA, FactorAnalysis\n",
    "from sklearn.covariance import ShrunkCovariance, LedoitWolf\n",
    "from sklearn.model_selection import cross_val_score\n",
    "from sklearn.model_selection import GridSearchCV\n",
    "from sklearn.model_selection import train_test_split"
   ]
  },
  {
   "cell_type": "markdown",
   "metadata": {},
   "source": [
    "Appending all the dataset into a list"
   ]
  },
  {
   "cell_type": "code",
   "execution_count": 2,
   "metadata": {},
   "outputs": [],
   "source": [
    "data = []\n",
    "fileNum = 2\n",
    "while fileNum < 115: \n",
    "    with open('data/logs-insights-results-' + str(fileNum) + '.csv') as f:\n",
    "        for line in csv.DictReader(f, fieldnames=('timestamp', 'message')):\n",
    "            data.append(line)\n",
    "        fileNum += 1"
   ]
  },
  {
   "cell_type": "code",
   "execution_count": 3,
   "metadata": {},
   "outputs": [
    {
     "data": {
      "text/plain": [
       "822226"
      ]
     },
     "execution_count": 3,
     "metadata": {},
     "output_type": "execute_result"
    }
   ],
   "source": [
    "len_of_data = len(data)\n",
    "len_of_data"
   ]
  },
  {
   "cell_type": "code",
   "execution_count": 4,
   "metadata": {},
   "outputs": [
    {
     "name": "stdout",
     "output_type": "stream",
     "text": [
      "{'timestamp': '@timestamp', 'message': '@message'}\n"
     ]
    }
   ],
   "source": [
    "print(data[0])"
   ]
  },
  {
   "cell_type": "markdown",
   "metadata": {},
   "source": [
    "This following decodes to message into different attributes:\n",
    "<li>account: the account of the user </li>\n",
    "<li>sourceIP: the ip address of the sender of the message</li>\n",
    "<li>destIP: the receiver of the message</li>\n",
    "<li>interface: the log stream of the message</li>\n",
    "<li>srcPort: internet port of sender</li>\n",
    "<li>dstPort: internet port of receiver</li>\n",
    "<li>protocol: the network protocol used to communicate the message</li>\n",
    "<li>byte: the size of the message</li>\n",
    "<li>packets: number of segments of the message</li>\n",
    "<li>startTime: the integer start time in unix time form</li>\n",
    "<li>timeTook: exact time it took to send the message</li>\n",
    "<li>status: either \"ACCEPT\" or \"REJECT\". Accept will be 1 and reject will be represented as 0.</li>"
   ]
  },
  {
   "cell_type": "code",
   "execution_count": 5,
   "metadata": {},
   "outputs": [
    {
     "name": "stdout",
     "output_type": "stream",
     "text": [
      "Date: 2021-02-10\n",
      "Time: 18:15:00.000\n",
      "AWS account: 430405884063\n",
      "Network interface: eni-0b6ce86ea40aaa41b\n",
      "Source IP: 50.245.225.205\n",
      "Destination IP: 172.16.1.52\n",
      "Status: 1\n",
      "Source port: 9622\n",
      "Destination port: 80\n",
      "Protocol: 6\n",
      "Packets of data: 5\n",
      "Size of data: 582 bytes\n",
      "Start time: 1612980900\n",
      "Time used: 9 seconds\n",
      "New size of dataset after filtering: 813100\n"
     ]
    }
   ],
   "source": [
    "date = []\n",
    "time = []\n",
    "account = []\n",
    "sourceIP = []\n",
    "destIP = []\n",
    "interface = []\n",
    "srcPort = []\n",
    "dstPort = []\n",
    "protocol = []\n",
    "byte = []\n",
    "packets = []\n",
    "startTime = []\n",
    "timeTook = []\n",
    "status = []\n",
    "\n",
    "na = None\n",
    "i = 1\n",
    "\n",
    "while i < len(data):\n",
    "    msg = data[i].get('message',na)\n",
    "    # for messages with no data will get filtered out here\n",
    "    if 'ACCEPT' in msg or 'REJECT' in msg:\n",
    "        timeTokens = data[i].get('timestamp',na).split()\n",
    "        date.append(timeTokens[0])\n",
    "        time.append(timeTokens[1])\n",
    "        tokens = msg.split()\n",
    "        account.append(tokens[1])\n",
    "        interface.append(tokens[2])\n",
    "        sourceIP.append(tokens[3])\n",
    "        destIP.append(tokens[4])\n",
    "        #storing actions\n",
    "        temp = 5\n",
    "        tempStr = ''\n",
    "        while(tokens[temp+1] != \"OK\"):\n",
    "            tempStr = tempStr + tokens[temp] + ' '\n",
    "            temp += 1\n",
    "        actionTokens = tempStr.split()\n",
    "        srcPort.append(actionTokens[0])\n",
    "        dstPort.append(actionTokens[1])\n",
    "        protocol.append(actionTokens[2])\n",
    "        packets.append(actionTokens[3])\n",
    "        byte.append(actionTokens[4])\n",
    "        startTime.append(int(actionTokens[5]))\n",
    "        timeTook.append(int(actionTokens[6]) - int(actionTokens[5]))\n",
    "        if(tokens[temp] == 'ACCEPT'):\n",
    "            status.append(1)\n",
    "        else:\n",
    "            status.append(0)\n",
    "    i += 1\n",
    "# print label as well\n",
    "print('Date: ' + date[0])\n",
    "print('Time: ' + time[0])\n",
    "print('AWS account: ' + account[0])\n",
    "print('Network interface: ' + interface[0])\n",
    "print('Source IP: ' + sourceIP[0])\n",
    "print('Destination IP: ' + destIP[0])\n",
    "print('Status: ' + str(status[0]))\n",
    "print('Source port: ' + srcPort[0])\n",
    "print('Destination port: ' + dstPort[0])\n",
    "print('Protocol: ' + protocol[0])\n",
    "print('Packets of data: ' + packets[0])\n",
    "print('Size of data: ' + byte[0] + ' bytes')\n",
    "print('Start time: ' + str(startTime[0]))\n",
    "print('Time used: ' + str(timeTook[0]) + ' seconds')\n",
    "print('New size of dataset after filtering: ' + str(len(date)))"
   ]
  },
  {
   "cell_type": "markdown",
   "metadata": {},
   "source": [
    "Creating the pandas dataframe"
   ]
  },
  {
   "cell_type": "code",
   "execution_count": 6,
   "metadata": {},
   "outputs": [],
   "source": [
    "df = pd.DataFrame({\n",
    "    \"date\":date,\n",
    "    \"time\":time,\n",
    "    \"account\":account,\n",
    "    \"interface\":interface,\n",
    "    \"sourceIP\":sourceIP,\n",
    "    \"destIP\":destIP,\n",
    "    \"srcPort\":srcPort,\n",
    "    \"dstPort\":dstPort,\n",
    "    \"protocol\":protocol,\n",
    "    \"packets\":packets,\n",
    "    \"byte\":byte,\n",
    "    \"startTime\":startTime,\n",
    "    \"timeTook\":timeTook,\n",
    "    \"status\":status\n",
    "})"
   ]
  },
  {
   "cell_type": "code",
   "execution_count": 7,
   "metadata": {},
   "outputs": [
    {
     "data": {
      "text/html": [
       "<div>\n",
       "<style scoped>\n",
       "    .dataframe tbody tr th:only-of-type {\n",
       "        vertical-align: middle;\n",
       "    }\n",
       "\n",
       "    .dataframe tbody tr th {\n",
       "        vertical-align: top;\n",
       "    }\n",
       "\n",
       "    .dataframe thead th {\n",
       "        text-align: right;\n",
       "    }\n",
       "</style>\n",
       "<table border=\"1\" class=\"dataframe\">\n",
       "  <thead>\n",
       "    <tr style=\"text-align: right;\">\n",
       "      <th></th>\n",
       "      <th>date</th>\n",
       "      <th>time</th>\n",
       "      <th>account</th>\n",
       "      <th>interface</th>\n",
       "      <th>sourceIP</th>\n",
       "      <th>destIP</th>\n",
       "      <th>srcPort</th>\n",
       "      <th>dstPort</th>\n",
       "      <th>protocol</th>\n",
       "      <th>packets</th>\n",
       "      <th>byte</th>\n",
       "      <th>startTime</th>\n",
       "      <th>timeTook</th>\n",
       "      <th>status</th>\n",
       "    </tr>\n",
       "  </thead>\n",
       "  <tbody>\n",
       "    <tr>\n",
       "      <th>0</th>\n",
       "      <td>2021-02-10</td>\n",
       "      <td>18:15:00.000</td>\n",
       "      <td>430405884063</td>\n",
       "      <td>eni-0b6ce86ea40aaa41b</td>\n",
       "      <td>50.245.225.205</td>\n",
       "      <td>172.16.1.52</td>\n",
       "      <td>9622</td>\n",
       "      <td>80</td>\n",
       "      <td>6</td>\n",
       "      <td>5</td>\n",
       "      <td>582</td>\n",
       "      <td>1612980900</td>\n",
       "      <td>9</td>\n",
       "      <td>1</td>\n",
       "    </tr>\n",
       "    <tr>\n",
       "      <th>1</th>\n",
       "      <td>2021-02-10</td>\n",
       "      <td>18:15:00.000</td>\n",
       "      <td>430405884063</td>\n",
       "      <td>eni-0b6ce86ea40aaa41b</td>\n",
       "      <td>172.16.1.52</td>\n",
       "      <td>50.245.225.205</td>\n",
       "      <td>80</td>\n",
       "      <td>9622</td>\n",
       "      <td>6</td>\n",
       "      <td>5</td>\n",
       "      <td>689</td>\n",
       "      <td>1612980900</td>\n",
       "      <td>9</td>\n",
       "      <td>1</td>\n",
       "    </tr>\n",
       "    <tr>\n",
       "      <th>2</th>\n",
       "      <td>2021-02-10</td>\n",
       "      <td>18:15:00.000</td>\n",
       "      <td>430405884063</td>\n",
       "      <td>eni-0b6ce86ea40aaa41b</td>\n",
       "      <td>50.245.225.205</td>\n",
       "      <td>172.16.1.52</td>\n",
       "      <td>22050</td>\n",
       "      <td>80</td>\n",
       "      <td>6</td>\n",
       "      <td>6</td>\n",
       "      <td>648</td>\n",
       "      <td>1612980900</td>\n",
       "      <td>9</td>\n",
       "      <td>1</td>\n",
       "    </tr>\n",
       "    <tr>\n",
       "      <th>3</th>\n",
       "      <td>2021-02-10</td>\n",
       "      <td>18:15:00.000</td>\n",
       "      <td>430405884063</td>\n",
       "      <td>eni-0b6ce86ea40aaa41b</td>\n",
       "      <td>172.16.1.52</td>\n",
       "      <td>50.245.225.205</td>\n",
       "      <td>80</td>\n",
       "      <td>22050</td>\n",
       "      <td>6</td>\n",
       "      <td>5</td>\n",
       "      <td>582</td>\n",
       "      <td>1612980900</td>\n",
       "      <td>9</td>\n",
       "      <td>1</td>\n",
       "    </tr>\n",
       "    <tr>\n",
       "      <th>4</th>\n",
       "      <td>2021-02-10</td>\n",
       "      <td>18:15:00.000</td>\n",
       "      <td>430405884063</td>\n",
       "      <td>eni-0b6ce86ea40aaa41b</td>\n",
       "      <td>50.245.225.205</td>\n",
       "      <td>172.16.1.52</td>\n",
       "      <td>51466</td>\n",
       "      <td>80</td>\n",
       "      <td>6</td>\n",
       "      <td>8</td>\n",
       "      <td>723</td>\n",
       "      <td>1612980900</td>\n",
       "      <td>9</td>\n",
       "      <td>1</td>\n",
       "    </tr>\n",
       "    <tr>\n",
       "      <th>5</th>\n",
       "      <td>2021-02-10</td>\n",
       "      <td>18:15:00.000</td>\n",
       "      <td>430405884063</td>\n",
       "      <td>eni-0b6ce86ea40aaa41b</td>\n",
       "      <td>172.16.1.52</td>\n",
       "      <td>50.245.225.205</td>\n",
       "      <td>80</td>\n",
       "      <td>51466</td>\n",
       "      <td>6</td>\n",
       "      <td>11</td>\n",
       "      <td>10996</td>\n",
       "      <td>1612980900</td>\n",
       "      <td>9</td>\n",
       "      <td>1</td>\n",
       "    </tr>\n",
       "    <tr>\n",
       "      <th>6</th>\n",
       "      <td>2021-02-10</td>\n",
       "      <td>18:15:00.000</td>\n",
       "      <td>430405884063</td>\n",
       "      <td>eni-0b6ce86ea40aaa41b</td>\n",
       "      <td>50.245.225.205</td>\n",
       "      <td>172.16.1.52</td>\n",
       "      <td>49748</td>\n",
       "      <td>80</td>\n",
       "      <td>6</td>\n",
       "      <td>7</td>\n",
       "      <td>705</td>\n",
       "      <td>1612980900</td>\n",
       "      <td>9</td>\n",
       "      <td>1</td>\n",
       "    </tr>\n",
       "    <tr>\n",
       "      <th>7</th>\n",
       "      <td>2021-02-10</td>\n",
       "      <td>18:15:00.000</td>\n",
       "      <td>430405884063</td>\n",
       "      <td>eni-0b6ce86ea40aaa41b</td>\n",
       "      <td>172.16.1.52</td>\n",
       "      <td>50.245.225.205</td>\n",
       "      <td>80</td>\n",
       "      <td>49748</td>\n",
       "      <td>6</td>\n",
       "      <td>13</td>\n",
       "      <td>12958</td>\n",
       "      <td>1612980900</td>\n",
       "      <td>9</td>\n",
       "      <td>1</td>\n",
       "    </tr>\n",
       "    <tr>\n",
       "      <th>8</th>\n",
       "      <td>2021-02-10</td>\n",
       "      <td>18:15:00.000</td>\n",
       "      <td>430405884063</td>\n",
       "      <td>eni-0b6ce86ea40aaa41b</td>\n",
       "      <td>50.245.225.205</td>\n",
       "      <td>172.16.1.52</td>\n",
       "      <td>18681</td>\n",
       "      <td>80</td>\n",
       "      <td>6</td>\n",
       "      <td>5</td>\n",
       "      <td>572</td>\n",
       "      <td>1612980900</td>\n",
       "      <td>9</td>\n",
       "      <td>1</td>\n",
       "    </tr>\n",
       "    <tr>\n",
       "      <th>9</th>\n",
       "      <td>2021-02-10</td>\n",
       "      <td>18:15:00.000</td>\n",
       "      <td>430405884063</td>\n",
       "      <td>eni-0b6ce86ea40aaa41b</td>\n",
       "      <td>172.16.1.52</td>\n",
       "      <td>50.245.225.205</td>\n",
       "      <td>80</td>\n",
       "      <td>18681</td>\n",
       "      <td>6</td>\n",
       "      <td>5</td>\n",
       "      <td>638</td>\n",
       "      <td>1612980900</td>\n",
       "      <td>9</td>\n",
       "      <td>1</td>\n",
       "    </tr>\n",
       "  </tbody>\n",
       "</table>\n",
       "</div>"
      ],
      "text/plain": [
       "         date          time       account              interface  \\\n",
       "0  2021-02-10  18:15:00.000  430405884063  eni-0b6ce86ea40aaa41b   \n",
       "1  2021-02-10  18:15:00.000  430405884063  eni-0b6ce86ea40aaa41b   \n",
       "2  2021-02-10  18:15:00.000  430405884063  eni-0b6ce86ea40aaa41b   \n",
       "3  2021-02-10  18:15:00.000  430405884063  eni-0b6ce86ea40aaa41b   \n",
       "4  2021-02-10  18:15:00.000  430405884063  eni-0b6ce86ea40aaa41b   \n",
       "5  2021-02-10  18:15:00.000  430405884063  eni-0b6ce86ea40aaa41b   \n",
       "6  2021-02-10  18:15:00.000  430405884063  eni-0b6ce86ea40aaa41b   \n",
       "7  2021-02-10  18:15:00.000  430405884063  eni-0b6ce86ea40aaa41b   \n",
       "8  2021-02-10  18:15:00.000  430405884063  eni-0b6ce86ea40aaa41b   \n",
       "9  2021-02-10  18:15:00.000  430405884063  eni-0b6ce86ea40aaa41b   \n",
       "\n",
       "         sourceIP          destIP srcPort dstPort protocol packets   byte  \\\n",
       "0  50.245.225.205     172.16.1.52    9622      80        6       5    582   \n",
       "1     172.16.1.52  50.245.225.205      80    9622        6       5    689   \n",
       "2  50.245.225.205     172.16.1.52   22050      80        6       6    648   \n",
       "3     172.16.1.52  50.245.225.205      80   22050        6       5    582   \n",
       "4  50.245.225.205     172.16.1.52   51466      80        6       8    723   \n",
       "5     172.16.1.52  50.245.225.205      80   51466        6      11  10996   \n",
       "6  50.245.225.205     172.16.1.52   49748      80        6       7    705   \n",
       "7     172.16.1.52  50.245.225.205      80   49748        6      13  12958   \n",
       "8  50.245.225.205     172.16.1.52   18681      80        6       5    572   \n",
       "9     172.16.1.52  50.245.225.205      80   18681        6       5    638   \n",
       "\n",
       "    startTime  timeTook  status  \n",
       "0  1612980900         9       1  \n",
       "1  1612980900         9       1  \n",
       "2  1612980900         9       1  \n",
       "3  1612980900         9       1  \n",
       "4  1612980900         9       1  \n",
       "5  1612980900         9       1  \n",
       "6  1612980900         9       1  \n",
       "7  1612980900         9       1  \n",
       "8  1612980900         9       1  \n",
       "9  1612980900         9       1  "
      ]
     },
     "execution_count": 7,
     "metadata": {},
     "output_type": "execute_result"
    }
   ],
   "source": [
    "df.head(10)"
   ]
  },
  {
   "cell_type": "code",
   "execution_count": 8,
   "metadata": {
    "scrolled": true
   },
   "outputs": [
    {
     "data": {
      "text/plain": [
       "Index(['date', 'time', 'account', 'interface', 'sourceIP', 'destIP', 'srcPort',\n",
       "       'dstPort', 'protocol', 'packets', 'byte', 'startTime', 'timeTook',\n",
       "       'status'],\n",
       "      dtype='object')"
      ]
     },
     "execution_count": 8,
     "metadata": {},
     "output_type": "execute_result"
    }
   ],
   "source": [
    "df.columns"
   ]
  },
  {
   "cell_type": "markdown",
   "metadata": {},
   "source": [
    "Remove features that are not interested"
   ]
  },
  {
   "cell_type": "code",
   "execution_count": 9,
   "metadata": {
    "scrolled": false
   },
   "outputs": [
    {
     "data": {
      "text/html": [
       "<div>\n",
       "<style scoped>\n",
       "    .dataframe tbody tr th:only-of-type {\n",
       "        vertical-align: middle;\n",
       "    }\n",
       "\n",
       "    .dataframe tbody tr th {\n",
       "        vertical-align: top;\n",
       "    }\n",
       "\n",
       "    .dataframe thead th {\n",
       "        text-align: right;\n",
       "    }\n",
       "</style>\n",
       "<table border=\"1\" class=\"dataframe\">\n",
       "  <thead>\n",
       "    <tr style=\"text-align: right;\">\n",
       "      <th></th>\n",
       "      <th>sourceIP</th>\n",
       "      <th>destIP</th>\n",
       "      <th>startTime</th>\n",
       "      <th>status</th>\n",
       "    </tr>\n",
       "  </thead>\n",
       "  <tbody>\n",
       "    <tr>\n",
       "      <th>0</th>\n",
       "      <td>50.245.225.205</td>\n",
       "      <td>172.16.1.52</td>\n",
       "      <td>1612980900</td>\n",
       "      <td>1</td>\n",
       "    </tr>\n",
       "    <tr>\n",
       "      <th>1</th>\n",
       "      <td>172.16.1.52</td>\n",
       "      <td>50.245.225.205</td>\n",
       "      <td>1612980900</td>\n",
       "      <td>1</td>\n",
       "    </tr>\n",
       "    <tr>\n",
       "      <th>2</th>\n",
       "      <td>50.245.225.205</td>\n",
       "      <td>172.16.1.52</td>\n",
       "      <td>1612980900</td>\n",
       "      <td>1</td>\n",
       "    </tr>\n",
       "    <tr>\n",
       "      <th>3</th>\n",
       "      <td>172.16.1.52</td>\n",
       "      <td>50.245.225.205</td>\n",
       "      <td>1612980900</td>\n",
       "      <td>1</td>\n",
       "    </tr>\n",
       "    <tr>\n",
       "      <th>4</th>\n",
       "      <td>50.245.225.205</td>\n",
       "      <td>172.16.1.52</td>\n",
       "      <td>1612980900</td>\n",
       "      <td>1</td>\n",
       "    </tr>\n",
       "  </tbody>\n",
       "</table>\n",
       "</div>"
      ],
      "text/plain": [
       "         sourceIP          destIP   startTime  status\n",
       "0  50.245.225.205     172.16.1.52  1612980900       1\n",
       "1     172.16.1.52  50.245.225.205  1612980900       1\n",
       "2  50.245.225.205     172.16.1.52  1612980900       1\n",
       "3     172.16.1.52  50.245.225.205  1612980900       1\n",
       "4  50.245.225.205     172.16.1.52  1612980900       1"
      ]
     },
     "execution_count": 9,
     "metadata": {},
     "output_type": "execute_result"
    }
   ],
   "source": [
    "df.pop('date')\n",
    "df.pop('time')\n",
    "df.pop(\"account\")\n",
    "df.pop(\"interface\")\n",
    "df.pop('srcPort')\n",
    "df.pop('dstPort')\n",
    "df.pop('protocol')\n",
    "df.pop('packets')\n",
    "df.pop('byte')\n",
    "df.pop('timeTook')\n",
    "\n",
    "# Reformat numbers\n",
    "df['startTime'] = pd.to_numeric(df['startTime'])\n",
    "df['status'] = pd.to_numeric(df['status'])\n",
    "\n",
    "df.head()"
   ]
  },
  {
   "cell_type": "markdown",
   "metadata": {},
   "source": [
    "Sorting the values by time, source ip address, and destination ip address for data pre-process"
   ]
  },
  {
   "cell_type": "code",
   "execution_count": 10,
   "metadata": {
    "scrolled": true
   },
   "outputs": [
    {
     "data": {
      "text/html": [
       "<div>\n",
       "<style scoped>\n",
       "    .dataframe tbody tr th:only-of-type {\n",
       "        vertical-align: middle;\n",
       "    }\n",
       "\n",
       "    .dataframe tbody tr th {\n",
       "        vertical-align: top;\n",
       "    }\n",
       "\n",
       "    .dataframe thead th {\n",
       "        text-align: right;\n",
       "    }\n",
       "</style>\n",
       "<table border=\"1\" class=\"dataframe\">\n",
       "  <thead>\n",
       "    <tr style=\"text-align: right;\">\n",
       "      <th></th>\n",
       "      <th>sourceIP</th>\n",
       "      <th>destIP</th>\n",
       "      <th>startTime</th>\n",
       "      <th>status</th>\n",
       "    </tr>\n",
       "  </thead>\n",
       "  <tbody>\n",
       "    <tr>\n",
       "      <th>0</th>\n",
       "      <td>172.16.1.196</td>\n",
       "      <td>172.16.1.52</td>\n",
       "      <td>1612980720</td>\n",
       "      <td>1</td>\n",
       "    </tr>\n",
       "    <tr>\n",
       "      <th>1</th>\n",
       "      <td>172.16.1.196</td>\n",
       "      <td>172.16.1.52</td>\n",
       "      <td>1612980720</td>\n",
       "      <td>1</td>\n",
       "    </tr>\n",
       "    <tr>\n",
       "      <th>2</th>\n",
       "      <td>172.16.1.196</td>\n",
       "      <td>172.16.1.52</td>\n",
       "      <td>1612980720</td>\n",
       "      <td>1</td>\n",
       "    </tr>\n",
       "    <tr>\n",
       "      <th>3</th>\n",
       "      <td>172.16.1.196</td>\n",
       "      <td>172.16.1.52</td>\n",
       "      <td>1612980720</td>\n",
       "      <td>1</td>\n",
       "    </tr>\n",
       "    <tr>\n",
       "      <th>4</th>\n",
       "      <td>172.16.1.196</td>\n",
       "      <td>172.16.1.52</td>\n",
       "      <td>1612980720</td>\n",
       "      <td>1</td>\n",
       "    </tr>\n",
       "  </tbody>\n",
       "</table>\n",
       "</div>"
      ],
      "text/plain": [
       "       sourceIP       destIP   startTime  status\n",
       "0  172.16.1.196  172.16.1.52  1612980720       1\n",
       "1  172.16.1.196  172.16.1.52  1612980720       1\n",
       "2  172.16.1.196  172.16.1.52  1612980720       1\n",
       "3  172.16.1.196  172.16.1.52  1612980720       1\n",
       "4  172.16.1.196  172.16.1.52  1612980720       1"
      ]
     },
     "execution_count": 10,
     "metadata": {},
     "output_type": "execute_result"
    }
   ],
   "source": [
    "df = df.sort_values(['startTime','sourceIP', 'destIP',],ascending=[True, True, True])\n",
    "df = df.reset_index(drop=True)\n",
    "df.head()"
   ]
  },
  {
   "cell_type": "markdown",
   "metadata": {},
   "source": [
    "Because an attacked is considered as an abnormal behavior in the dataset which the number of requests from a single ip address is much greater than the average. We combine the rows if the source IP, destination IP, and start time are the same, creating a new column called numOfRequest that keeps track of the number of duplicate requests for each second, and acceptanceRate that summerize the total accuracy of ACCEPT/REJECT"
   ]
  },
  {
   "cell_type": "code",
   "execution_count": 11,
   "metadata": {
    "scrolled": false
   },
   "outputs": [
    {
     "data": {
      "text/html": [
       "<div>\n",
       "<style scoped>\n",
       "    .dataframe tbody tr th:only-of-type {\n",
       "        vertical-align: middle;\n",
       "    }\n",
       "\n",
       "    .dataframe tbody tr th {\n",
       "        vertical-align: top;\n",
       "    }\n",
       "\n",
       "    .dataframe thead th {\n",
       "        text-align: right;\n",
       "    }\n",
       "</style>\n",
       "<table border=\"1\" class=\"dataframe\">\n",
       "  <thead>\n",
       "    <tr style=\"text-align: right;\">\n",
       "      <th></th>\n",
       "      <th>sourceIP</th>\n",
       "      <th>destIP</th>\n",
       "      <th>numOfRequest</th>\n",
       "      <th>time</th>\n",
       "      <th>acceptanceRate</th>\n",
       "    </tr>\n",
       "  </thead>\n",
       "  <tbody>\n",
       "    <tr>\n",
       "      <th>0</th>\n",
       "      <td>172.16.1.196</td>\n",
       "      <td>172.16.1.52</td>\n",
       "      <td>5.0</td>\n",
       "      <td>1.612981e+09</td>\n",
       "      <td>100.0</td>\n",
       "    </tr>\n",
       "    <tr>\n",
       "      <th>1</th>\n",
       "      <td>172.16.1.52</td>\n",
       "      <td>172.16.1.196</td>\n",
       "      <td>5.0</td>\n",
       "      <td>1.612981e+09</td>\n",
       "      <td>100.0</td>\n",
       "    </tr>\n",
       "    <tr>\n",
       "      <th>2</th>\n",
       "      <td>172.16.1.52</td>\n",
       "      <td>50.230.35.38</td>\n",
       "      <td>4.0</td>\n",
       "      <td>1.612981e+09</td>\n",
       "      <td>100.0</td>\n",
       "    </tr>\n",
       "    <tr>\n",
       "      <th>3</th>\n",
       "      <td>50.230.35.38</td>\n",
       "      <td>172.16.1.52</td>\n",
       "      <td>4.0</td>\n",
       "      <td>1.612981e+09</td>\n",
       "      <td>100.0</td>\n",
       "    </tr>\n",
       "    <tr>\n",
       "      <th>4</th>\n",
       "      <td>10.3.252.99</td>\n",
       "      <td>172.16.1.196</td>\n",
       "      <td>5.0</td>\n",
       "      <td>1.612981e+09</td>\n",
       "      <td>100.0</td>\n",
       "    </tr>\n",
       "  </tbody>\n",
       "</table>\n",
       "</div>"
      ],
      "text/plain": [
       "       sourceIP        destIP  numOfRequest          time  acceptanceRate\n",
       "0  172.16.1.196   172.16.1.52           5.0  1.612981e+09           100.0\n",
       "1   172.16.1.52  172.16.1.196           5.0  1.612981e+09           100.0\n",
       "2   172.16.1.52  50.230.35.38           4.0  1.612981e+09           100.0\n",
       "3  50.230.35.38   172.16.1.52           4.0  1.612981e+09           100.0\n",
       "4   10.3.252.99  172.16.1.196           5.0  1.612981e+09           100.0"
      ]
     },
     "execution_count": 11,
     "metadata": {},
     "output_type": "execute_result"
    }
   ],
   "source": [
    "#preprocess the data\n",
    "#O(n)\n",
    "processedDf = pd.DataFrame({\n",
    "    \"sourceIP\":[],\n",
    "    \"destIP\":[],\n",
    "    \"numOfRequest\":[],\n",
    "    \"time\":[],\n",
    "    \"acceptanceRate\":[],\n",
    "})\n",
    "for index, line in df.iterrows():\n",
    "    if index == 0:\n",
    "        m = 100\n",
    "        if line['status'] == 0:\n",
    "            m = 0\n",
    "        processedDf.loc[0] = [line['sourceIP'],line['destIP'],1,line['startTime'],m]\n",
    "    else:\n",
    "        n = len(processedDf)-1\n",
    "        if processedDf.loc[n,'sourceIP']==line['sourceIP'] and processedDf.loc[n,'destIP']==line['destIP'] and processedDf.loc[n,'time']==line['startTime']:\n",
    "            x = processedDf.loc[n,'numOfRequest']\n",
    "            processedDf.loc[n,'numOfRequest'] = x + 1\n",
    "            if line['status'] == 1:\n",
    "                processedDf.loc[n,'acceptanceRate'] = (((x*processedDf.loc[n,'acceptanceRate']*0.01)+1)/(x+1)) * 100\n",
    "            else:\n",
    "                processedDf.loc[n,'acceptanceRate'] = (((x*processedDf.loc[n,'acceptanceRate']*0.01))/(x+1)) * 100\n",
    "        else:\n",
    "            m = 100\n",
    "            if line['status'] == 0:\n",
    "                m = 0\n",
    "            processedDf.loc[n+1] = [line['sourceIP'],line['destIP'],1,line['startTime'],m]\n",
    "processedDf.head()"
   ]
  },
  {
   "cell_type": "code",
   "execution_count": 12,
   "metadata": {},
   "outputs": [],
   "source": [
    "processedDf.to_csv('processed_data.csv')"
   ]
  },
  {
   "cell_type": "code",
   "execution_count": 13,
   "metadata": {
    "scrolled": false
   },
   "outputs": [
    {
     "data": {
      "text/html": [
       "<div>\n",
       "<style scoped>\n",
       "    .dataframe tbody tr th:only-of-type {\n",
       "        vertical-align: middle;\n",
       "    }\n",
       "\n",
       "    .dataframe tbody tr th {\n",
       "        vertical-align: top;\n",
       "    }\n",
       "\n",
       "    .dataframe thead th {\n",
       "        text-align: right;\n",
       "    }\n",
       "</style>\n",
       "<table border=\"1\" class=\"dataframe\">\n",
       "  <thead>\n",
       "    <tr style=\"text-align: right;\">\n",
       "      <th></th>\n",
       "      <th>sourceIP</th>\n",
       "      <th>destIP</th>\n",
       "      <th>numOfRequest</th>\n",
       "      <th>time</th>\n",
       "      <th>acceptanceRate</th>\n",
       "    </tr>\n",
       "  </thead>\n",
       "  <tbody>\n",
       "    <tr>\n",
       "      <th>0</th>\n",
       "      <td>172.16.1.196</td>\n",
       "      <td>172.16.1.52</td>\n",
       "      <td>5.0</td>\n",
       "      <td>1.612981e+09</td>\n",
       "      <td>100.0</td>\n",
       "    </tr>\n",
       "    <tr>\n",
       "      <th>1</th>\n",
       "      <td>172.16.1.52</td>\n",
       "      <td>172.16.1.196</td>\n",
       "      <td>5.0</td>\n",
       "      <td>1.612981e+09</td>\n",
       "      <td>100.0</td>\n",
       "    </tr>\n",
       "    <tr>\n",
       "      <th>2</th>\n",
       "      <td>172.16.1.52</td>\n",
       "      <td>50.230.35.38</td>\n",
       "      <td>4.0</td>\n",
       "      <td>1.612981e+09</td>\n",
       "      <td>100.0</td>\n",
       "    </tr>\n",
       "    <tr>\n",
       "      <th>3</th>\n",
       "      <td>50.230.35.38</td>\n",
       "      <td>172.16.1.52</td>\n",
       "      <td>4.0</td>\n",
       "      <td>1.612981e+09</td>\n",
       "      <td>100.0</td>\n",
       "    </tr>\n",
       "    <tr>\n",
       "      <th>4</th>\n",
       "      <td>10.3.252.99</td>\n",
       "      <td>172.16.1.196</td>\n",
       "      <td>5.0</td>\n",
       "      <td>1.612981e+09</td>\n",
       "      <td>100.0</td>\n",
       "    </tr>\n",
       "  </tbody>\n",
       "</table>\n",
       "</div>"
      ],
      "text/plain": [
       "       sourceIP        destIP  numOfRequest          time  acceptanceRate\n",
       "0  172.16.1.196   172.16.1.52           5.0  1.612981e+09           100.0\n",
       "1   172.16.1.52  172.16.1.196           5.0  1.612981e+09           100.0\n",
       "2   172.16.1.52  50.230.35.38           4.0  1.612981e+09           100.0\n",
       "3  50.230.35.38   172.16.1.52           4.0  1.612981e+09           100.0\n",
       "4   10.3.252.99  172.16.1.196           5.0  1.612981e+09           100.0"
      ]
     },
     "execution_count": 13,
     "metadata": {},
     "output_type": "execute_result"
    }
   ],
   "source": [
    "df = pd.read_csv('processed_data.csv')\n",
    "df.pop('Unnamed: 0')\n",
    "df.head()"
   ]
  },
  {
   "cell_type": "markdown",
   "metadata": {},
   "source": [
    "Because the dataset does not contain a supervised information to determine the response being whether an attack, unsupervised machine learning is used to determine the attacks and not attacks. KMeans clustering groups the the dataset around 2 centroids. Then, logistic regression is used to produce the likeihood of each response being an attack by the machine. The K-mean cluster result is used as a superviser for the logictic regression."
   ]
  },
  {
   "cell_type": "code",
   "execution_count": 14,
   "metadata": {
    "scrolled": true
   },
   "outputs": [],
   "source": [
    "from numpy import nan\n",
    "from sklearn.metrics import classification_report\n",
    "from sklearn.model_selection import train_test_split\n",
    "from sklearn.cluster import KMeans"
   ]
  },
  {
   "cell_type": "markdown",
   "metadata": {},
   "source": [
    "unsupervised learning using k-means clustering"
   ]
  },
  {
   "cell_type": "code",
   "execution_count": 15,
   "metadata": {},
   "outputs": [
    {
     "data": {
      "text/plain": [
       "0    43594\n",
       "1      775\n",
       "2      145\n",
       "Name: is_attack, dtype: int64"
      ]
     },
     "execution_count": 15,
     "metadata": {},
     "output_type": "execute_result"
    }
   ],
   "source": [
    "X = df.loc[:, ['numOfRequest', 'acceptanceRate']]\n",
    "kmeans = KMeans(n_clusters = 3)\n",
    "kmeans.fit(X)\n",
    "df['is_attack'] = kmeans.labels_\n",
    "df['is_attack'].value_counts()"
   ]
  },
  {
   "cell_type": "markdown",
   "metadata": {},
   "source": [
    "some explanation here on what clusters are "
   ]
  },
  {
   "cell_type": "code",
   "execution_count": 16,
   "metadata": {},
   "outputs": [
    {
     "data": {
      "image/png": "[encoded data removed]",
      "text/plain": [
       "<Figure size 432x288 with 1 Axes>"
      ]
     },
     "metadata": {
      "needs_background": "light"
     },
     "output_type": "display_data"
    },
    {
     "data": {
      "text/plain": [
       "<Figure size 432x288 with 0 Axes>"
      ]
     },
     "metadata": {},
     "output_type": "display_data"
    }
   ],
   "source": [
    "filtered_label0 = df[df['is_attack']==0]\n",
    "filtered_label1 = df[df['is_attack']==1]\n",
    "filtered_label2 = df[df['is_attack']==2]\n",
    " \n",
    "#Plotting the results\n",
    "plt.scatter(filtered_label0['time'] ,filtered_label0['numOfRequest'] , color = 'green')\n",
    "plt.scatter(filtered_label1['time'] ,filtered_label1['numOfRequest'] , color = 'yellow')\n",
    "plt.scatter(filtered_label2['time'] ,filtered_label2['numOfRequest'] , color = 'red')\n",
    "\n",
    "plt.show()\n",
    "plt.savefig('cluster_graph_1.png', dpi = 300)"
   ]
  },
  {
   "cell_type": "markdown",
   "metadata": {},
   "source": [
    "supervised learning using logictic regression"
   ]
  },
  {
   "cell_type": "code",
   "execution_count": 17,
   "metadata": {},
   "outputs": [
    {
     "name": "stderr",
     "output_type": "stream",
     "text": [
      "[Parallel(n_jobs=1)]: Using backend SequentialBackend with 1 concurrent workers.\n"
     ]
    },
    {
     "name": "stdout",
     "output_type": "stream",
     "text": [
      "              precision    recall  f1-score   support\n",
      "\n",
      "           0       1.00      1.00      1.00     14411\n",
      "           1       1.00      1.00      1.00       237\n",
      "           2       0.98      1.00      0.99        42\n",
      "\n",
      "    accuracy                           1.00     14690\n",
      "   macro avg       0.99      1.00      1.00     14690\n",
      "weighted avg       1.00      1.00      1.00     14690\n",
      "\n"
     ]
    },
    {
     "name": "stderr",
     "output_type": "stream",
     "text": [
      "[Parallel(n_jobs=1)]: Done   1 out of   1 | elapsed:    1.3s finished\n"
     ]
    }
   ],
   "source": [
    "from sklearn.datasets import load_iris\n",
    "from sklearn.linear_model import LogisticRegression\n",
    "y = df['is_attack'].astype(int)\n",
    "X_train, X_test, y_train, y_test = train_test_split(X, y, test_size=0.33)\n",
    "clf = LogisticRegression(random_state=0, verbose=1).fit(X_train, y_train)\n",
    "y_pred = clf.predict(X_test)\n",
    "print(classification_report(y_test,y_pred))"
   ]
  },
  {
   "cell_type": "markdown",
   "metadata": {},
   "source": [
    "The report above indicates how many responses are considered as not attacks, how many as gray area, and how many definitly attacks."
   ]
  },
  {
   "cell_type": "code",
   "execution_count": 18,
   "metadata": {
    "scrolled": false
   },
   "outputs": [
    {
     "data": {
      "text/html": [
       "<div>\n",
       "<style scoped>\n",
       "    .dataframe tbody tr th:only-of-type {\n",
       "        vertical-align: middle;\n",
       "    }\n",
       "\n",
       "    .dataframe tbody tr th {\n",
       "        vertical-align: top;\n",
       "    }\n",
       "\n",
       "    .dataframe thead th {\n",
       "        text-align: right;\n",
       "    }\n",
       "</style>\n",
       "<table border=\"1\" class=\"dataframe\">\n",
       "  <thead>\n",
       "    <tr style=\"text-align: right;\">\n",
       "      <th></th>\n",
       "      <th>sourceIP</th>\n",
       "      <th>destIP</th>\n",
       "      <th>numOfRequest</th>\n",
       "      <th>time</th>\n",
       "      <th>acceptanceRate</th>\n",
       "      <th>is_attack</th>\n",
       "      <th>is_attack_supervised</th>\n",
       "    </tr>\n",
       "  </thead>\n",
       "  <tbody>\n",
       "    <tr>\n",
       "      <th>0</th>\n",
       "      <td>172.16.1.196</td>\n",
       "      <td>172.16.1.52</td>\n",
       "      <td>5.0</td>\n",
       "      <td>1.612981e+09</td>\n",
       "      <td>100.0</td>\n",
       "      <td>0</td>\n",
       "      <td>9.774005e-116</td>\n",
       "    </tr>\n",
       "    <tr>\n",
       "      <th>1</th>\n",
       "      <td>172.16.1.52</td>\n",
       "      <td>172.16.1.196</td>\n",
       "      <td>5.0</td>\n",
       "      <td>1.612981e+09</td>\n",
       "      <td>100.0</td>\n",
       "      <td>0</td>\n",
       "      <td>9.774005e-116</td>\n",
       "    </tr>\n",
       "    <tr>\n",
       "      <th>2</th>\n",
       "      <td>172.16.1.52</td>\n",
       "      <td>50.230.35.38</td>\n",
       "      <td>4.0</td>\n",
       "      <td>1.612981e+09</td>\n",
       "      <td>100.0</td>\n",
       "      <td>0</td>\n",
       "      <td>4.037065e-116</td>\n",
       "    </tr>\n",
       "    <tr>\n",
       "      <th>3</th>\n",
       "      <td>50.230.35.38</td>\n",
       "      <td>172.16.1.52</td>\n",
       "      <td>4.0</td>\n",
       "      <td>1.612981e+09</td>\n",
       "      <td>100.0</td>\n",
       "      <td>0</td>\n",
       "      <td>4.037065e-116</td>\n",
       "    </tr>\n",
       "    <tr>\n",
       "      <th>4</th>\n",
       "      <td>10.3.252.99</td>\n",
       "      <td>172.16.1.196</td>\n",
       "      <td>5.0</td>\n",
       "      <td>1.612981e+09</td>\n",
       "      <td>100.0</td>\n",
       "      <td>0</td>\n",
       "      <td>9.774005e-116</td>\n",
       "    </tr>\n",
       "  </tbody>\n",
       "</table>\n",
       "</div>"
      ],
      "text/plain": [
       "       sourceIP        destIP  numOfRequest          time  acceptanceRate  \\\n",
       "0  172.16.1.196   172.16.1.52           5.0  1.612981e+09           100.0   \n",
       "1   172.16.1.52  172.16.1.196           5.0  1.612981e+09           100.0   \n",
       "2   172.16.1.52  50.230.35.38           4.0  1.612981e+09           100.0   \n",
       "3  50.230.35.38   172.16.1.52           4.0  1.612981e+09           100.0   \n",
       "4   10.3.252.99  172.16.1.196           5.0  1.612981e+09           100.0   \n",
       "\n",
       "   is_attack  is_attack_supervised  \n",
       "0          0         9.774005e-116  \n",
       "1          0         9.774005e-116  \n",
       "2          0         4.037065e-116  \n",
       "3          0         4.037065e-116  \n",
       "4          0         9.774005e-116  "
      ]
     },
     "execution_count": 18,
     "metadata": {},
     "output_type": "execute_result"
    }
   ],
   "source": [
    "df['is_attack_supervised'] = clf.predict_proba(X)[:,1]\n",
    "df.head()"
   ]
  },
  {
   "cell_type": "markdown",
   "metadata": {},
   "source": [
    "Here is the sorted dataset based on the probability of attacks, the result is showing that for over a few hundred responses in 1 second are highly considered an attack."
   ]
  },
  {
   "cell_type": "code",
   "execution_count": 19,
   "metadata": {
    "scrolled": true
   },
   "outputs": [
    {
     "data": {
      "text/html": [
       "<div>\n",
       "<style scoped>\n",
       "    .dataframe tbody tr th:only-of-type {\n",
       "        vertical-align: middle;\n",
       "    }\n",
       "\n",
       "    .dataframe tbody tr th {\n",
       "        vertical-align: top;\n",
       "    }\n",
       "\n",
       "    .dataframe thead th {\n",
       "        text-align: right;\n",
       "    }\n",
       "</style>\n",
       "<table border=\"1\" class=\"dataframe\">\n",
       "  <thead>\n",
       "    <tr style=\"text-align: right;\">\n",
       "      <th></th>\n",
       "      <th>sourceIP</th>\n",
       "      <th>destIP</th>\n",
       "      <th>numOfRequest</th>\n",
       "      <th>time</th>\n",
       "      <th>acceptanceRate</th>\n",
       "      <th>is_attack</th>\n",
       "      <th>is_attack_supervised</th>\n",
       "    </tr>\n",
       "  </thead>\n",
       "  <tbody>\n",
       "    <tr>\n",
       "      <th>8187</th>\n",
       "      <td>10.3.252.33</td>\n",
       "      <td>172.16.1.245</td>\n",
       "      <td>999.0</td>\n",
       "      <td>1.612983e+09</td>\n",
       "      <td>100.0</td>\n",
       "      <td>2</td>\n",
       "      <td>0.088674</td>\n",
       "    </tr>\n",
       "    <tr>\n",
       "      <th>8189</th>\n",
       "      <td>172.16.1.245</td>\n",
       "      <td>10.3.252.33</td>\n",
       "      <td>999.0</td>\n",
       "      <td>1.612983e+09</td>\n",
       "      <td>100.0</td>\n",
       "      <td>2</td>\n",
       "      <td>0.088674</td>\n",
       "    </tr>\n",
       "    <tr>\n",
       "      <th>14000</th>\n",
       "      <td>172.16.1.196</td>\n",
       "      <td>172.16.1.52</td>\n",
       "      <td>1016.0</td>\n",
       "      <td>1.612985e+09</td>\n",
       "      <td>100.0</td>\n",
       "      <td>2</td>\n",
       "      <td>0.013385</td>\n",
       "    </tr>\n",
       "    <tr>\n",
       "      <th>14002</th>\n",
       "      <td>172.16.1.52</td>\n",
       "      <td>172.16.1.196</td>\n",
       "      <td>1016.0</td>\n",
       "      <td>1.612985e+09</td>\n",
       "      <td>100.0</td>\n",
       "      <td>2</td>\n",
       "      <td>0.013385</td>\n",
       "    </tr>\n",
       "    <tr>\n",
       "      <th>13331</th>\n",
       "      <td>172.16.1.196</td>\n",
       "      <td>172.16.1.52</td>\n",
       "      <td>1030.0</td>\n",
       "      <td>1.612985e+09</td>\n",
       "      <td>100.0</td>\n",
       "      <td>2</td>\n",
       "      <td>0.002671</td>\n",
       "    </tr>\n",
       "  </tbody>\n",
       "</table>\n",
       "</div>"
      ],
      "text/plain": [
       "           sourceIP        destIP  numOfRequest          time  acceptanceRate  \\\n",
       "8187    10.3.252.33  172.16.1.245         999.0  1.612983e+09           100.0   \n",
       "8189   172.16.1.245   10.3.252.33         999.0  1.612983e+09           100.0   \n",
       "14000  172.16.1.196   172.16.1.52        1016.0  1.612985e+09           100.0   \n",
       "14002   172.16.1.52  172.16.1.196        1016.0  1.612985e+09           100.0   \n",
       "13331  172.16.1.196   172.16.1.52        1030.0  1.612985e+09           100.0   \n",
       "\n",
       "       is_attack  is_attack_supervised  \n",
       "8187           2              0.088674  \n",
       "8189           2              0.088674  \n",
       "14000          2              0.013385  \n",
       "14002          2              0.013385  \n",
       "13331          2              0.002671  "
      ]
     },
     "execution_count": 19,
     "metadata": {},
     "output_type": "execute_result"
    }
   ],
   "source": [
    "suspicious_activity = df.sort_values(by='is_attack_supervised',ascending=False)\n",
    "suspicious_activity = suspicious_activity[suspicious_activity['is_attack']==2]\n",
    "suspicious_activity.head()"
   ]
  },
  {
   "cell_type": "markdown",
   "metadata": {},
   "source": [
    "Do a k-means cluster with 2 clusters to seperate the responses in the gray area"
   ]
  },
  {
   "cell_type": "code",
   "execution_count": 20,
   "metadata": {
    "scrolled": false
   },
   "outputs": [
    {
     "name": "stderr",
     "output_type": "stream",
     "text": [
      "<ipython-input-20-36ea3d716cf7>:6: SettingWithCopyWarning: \n",
      "A value is trying to be set on a copy of a slice from a DataFrame.\n",
      "Try using .loc[row_indexer,col_indexer] = value instead\n",
      "\n",
      "See the caveats in the documentation: https://pandas.pydata.org/pandas-docs/stable/user_guide/indexing.html#returning-a-view-versus-a-copy\n",
      "  grayArea['possible_sus'] = kmeans.labels_\n"
     ]
    },
    {
     "data": {
      "text/plain": [
       "0    567\n",
       "1    208\n",
       "Name: possible_sus, dtype: int64"
      ]
     },
     "execution_count": 20,
     "metadata": {},
     "output_type": "execute_result"
    }
   ],
   "source": [
    "grayArea = df[df['is_attack']==1]\n",
    "\n",
    "X = grayArea.loc[:, ['numOfRequest', 'acceptanceRate']]\n",
    "kmeans = KMeans(n_clusters = 2) # is attack or not attack into 2 clusters\n",
    "kmeans.fit(X)\n",
    "grayArea['possible_sus'] = kmeans.labels_\n",
    "grayArea['possible_sus'].value_counts()"
   ]
  },
  {
   "cell_type": "code",
   "execution_count": 21,
   "metadata": {},
   "outputs": [
    {
     "data": {
      "image/png": "[encoded data removed]",
      "text/plain": [
       "<Figure size 432x288 with 1 Axes>"
      ]
     },
     "metadata": {
      "needs_background": "light"
     },
     "output_type": "display_data"
    },
    {
     "data": {
      "text/plain": [
       "<Figure size 432x288 with 0 Axes>"
      ]
     },
     "metadata": {},
     "output_type": "display_data"
    }
   ],
   "source": [
    "filtered_label0 = grayArea[grayArea['possible_sus']==0]\n",
    "filtered_label1 = grayArea[grayArea['possible_sus']==1]\n",
    " \n",
    "#Plotting the results\n",
    "plt.scatter(filtered_label0['time'] ,filtered_label0['numOfRequest'] , color = 'orange')\n",
    "plt.scatter(filtered_label1['time'] ,filtered_label1['numOfRequest'] , color = 'brown')\n",
    "\n",
    "plt.show()\n",
    "plt.savefig('cluster_graph_2.png', dpi = 300)"
   ]
  },
  {
   "cell_type": "code",
   "execution_count": 22,
   "metadata": {},
   "outputs": [
    {
     "data": {
      "text/html": [
       "<div>\n",
       "<style scoped>\n",
       "    .dataframe tbody tr th:only-of-type {\n",
       "        vertical-align: middle;\n",
       "    }\n",
       "\n",
       "    .dataframe tbody tr th {\n",
       "        vertical-align: top;\n",
       "    }\n",
       "\n",
       "    .dataframe thead th {\n",
       "        text-align: right;\n",
       "    }\n",
       "</style>\n",
       "<table border=\"1\" class=\"dataframe\">\n",
       "  <thead>\n",
       "    <tr style=\"text-align: right;\">\n",
       "      <th></th>\n",
       "      <th>sourceIP</th>\n",
       "      <th>destIP</th>\n",
       "      <th>numOfRequest</th>\n",
       "      <th>time</th>\n",
       "      <th>acceptanceRate</th>\n",
       "      <th>is_attack</th>\n",
       "      <th>is_attack_supervised</th>\n",
       "      <th>possible_sus</th>\n",
       "    </tr>\n",
       "  </thead>\n",
       "  <tbody>\n",
       "    <tr>\n",
       "      <th>594</th>\n",
       "      <td>172.16.1.52</td>\n",
       "      <td>50.245.225.205</td>\n",
       "      <td>318.0</td>\n",
       "      <td>1.612981e+09</td>\n",
       "      <td>100.0</td>\n",
       "      <td>1</td>\n",
       "      <td>0.999993</td>\n",
       "      <td>1</td>\n",
       "    </tr>\n",
       "    <tr>\n",
       "      <th>595</th>\n",
       "      <td>50.245.225.205</td>\n",
       "      <td>172.16.1.52</td>\n",
       "      <td>318.0</td>\n",
       "      <td>1.612981e+09</td>\n",
       "      <td>100.0</td>\n",
       "      <td>1</td>\n",
       "      <td>0.999993</td>\n",
       "      <td>1</td>\n",
       "    </tr>\n",
       "    <tr>\n",
       "      <th>695</th>\n",
       "      <td>172.16.1.52</td>\n",
       "      <td>50.245.225.205</td>\n",
       "      <td>370.0</td>\n",
       "      <td>1.612981e+09</td>\n",
       "      <td>100.0</td>\n",
       "      <td>1</td>\n",
       "      <td>1.000000</td>\n",
       "      <td>1</td>\n",
       "    </tr>\n",
       "    <tr>\n",
       "      <th>700</th>\n",
       "      <td>50.245.225.205</td>\n",
       "      <td>172.16.1.52</td>\n",
       "      <td>370.0</td>\n",
       "      <td>1.612981e+09</td>\n",
       "      <td>100.0</td>\n",
       "      <td>1</td>\n",
       "      <td>1.000000</td>\n",
       "      <td>1</td>\n",
       "    </tr>\n",
       "    <tr>\n",
       "      <th>770</th>\n",
       "      <td>172.16.1.52</td>\n",
       "      <td>50.245.225.205</td>\n",
       "      <td>409.0</td>\n",
       "      <td>1.612981e+09</td>\n",
       "      <td>100.0</td>\n",
       "      <td>1</td>\n",
       "      <td>1.000000</td>\n",
       "      <td>1</td>\n",
       "    </tr>\n",
       "  </tbody>\n",
       "</table>\n",
       "</div>"
      ],
      "text/plain": [
       "           sourceIP          destIP  numOfRequest          time  \\\n",
       "594     172.16.1.52  50.245.225.205         318.0  1.612981e+09   \n",
       "595  50.245.225.205     172.16.1.52         318.0  1.612981e+09   \n",
       "695     172.16.1.52  50.245.225.205         370.0  1.612981e+09   \n",
       "700  50.245.225.205     172.16.1.52         370.0  1.612981e+09   \n",
       "770     172.16.1.52  50.245.225.205         409.0  1.612981e+09   \n",
       "\n",
       "     acceptanceRate  is_attack  is_attack_supervised  possible_sus  \n",
       "594           100.0          1              0.999993             1  \n",
       "595           100.0          1              0.999993             1  \n",
       "695           100.0          1              1.000000             1  \n",
       "700           100.0          1              1.000000             1  \n",
       "770           100.0          1              1.000000             1  "
      ]
     },
     "execution_count": 22,
     "metadata": {},
     "output_type": "execute_result"
    }
   ],
   "source": [
    "grayArea.head()"
   ]
  },
  {
   "cell_type": "code",
   "execution_count": 23,
   "metadata": {
    "scrolled": true
   },
   "outputs": [
    {
     "data": {
      "text/plain": [
       "sourceIP                145\n",
       "destIP                  145\n",
       "numOfRequest            145\n",
       "time                    145\n",
       "acceptanceRate          145\n",
       "is_attack               145\n",
       "is_attack_supervised    145\n",
       "dtype: int64"
      ]
     },
     "execution_count": 23,
     "metadata": {},
     "output_type": "execute_result"
    }
   ],
   "source": [
    "suspicious_activity.count()"
   ]
  },
  {
   "cell_type": "markdown",
   "metadata": {},
   "source": [
    "Merge the gray area responses that's classified as suspicious activities with others"
   ]
  },
  {
   "cell_type": "code",
   "execution_count": 24,
   "metadata": {},
   "outputs": [
    {
     "data": {
      "text/plain": [
       "594      1\n",
       "595      1\n",
       "695      1\n",
       "700      1\n",
       "770      1\n",
       "        ..\n",
       "19313    1\n",
       "19404    1\n",
       "19410    1\n",
       "19461    1\n",
       "19463    1\n",
       "Name: possible_sus, Length: 208, dtype: int32"
      ]
     },
     "execution_count": 24,
     "metadata": {},
     "output_type": "execute_result"
    }
   ],
   "source": [
    "grayAreaSus = grayArea[grayArea['possible_sus'] == 1]\n",
    "grayAreaSus.pop('possible_sus')"
   ]
  },
  {
   "cell_type": "code",
   "execution_count": 25,
   "metadata": {},
   "outputs": [
    {
     "data": {
      "text/plain": [
       "sourceIP                353\n",
       "destIP                  353\n",
       "numOfRequest            353\n",
       "time                    353\n",
       "acceptanceRate          353\n",
       "is_attack               353\n",
       "is_attack_supervised    353\n",
       "likelihood              353\n",
       "dtype: int64"
      ]
     },
     "execution_count": 25,
     "metadata": {},
     "output_type": "execute_result"
    }
   ],
   "source": [
    "suspicious_activity = pd.concat([suspicious_activity, grayAreaSus], ignore_index=True)\n",
    "suspicious_activity['likelihood'] = suspicious_activity['numOfRequest']/suspicious_activity['numOfRequest'].max()\n",
    "suspicious_activity = suspicious_activity.sort_values(by='likelihood',ascending=False)\n",
    "suspicious_activity.count()"
   ]
  },
  {
   "cell_type": "markdown",
   "metadata": {},
   "source": [
    "The threshold for the number of requests considered as an attack is 410 per second"
   ]
  },
  {
   "cell_type": "code",
   "execution_count": 26,
   "metadata": {
    "scrolled": false
   },
   "outputs": [
    {
     "data": {
      "text/html": [
       "<div>\n",
       "<style scoped>\n",
       "    .dataframe tbody tr th:only-of-type {\n",
       "        vertical-align: middle;\n",
       "    }\n",
       "\n",
       "    .dataframe tbody tr th {\n",
       "        vertical-align: top;\n",
       "    }\n",
       "\n",
       "    .dataframe thead th {\n",
       "        text-align: right;\n",
       "    }\n",
       "</style>\n",
       "<table border=\"1\" class=\"dataframe\">\n",
       "  <thead>\n",
       "    <tr style=\"text-align: right;\">\n",
       "      <th></th>\n",
       "      <th>sourceIP</th>\n",
       "      <th>destIP</th>\n",
       "      <th>numOfRequest</th>\n",
       "      <th>time</th>\n",
       "      <th>acceptanceRate</th>\n",
       "      <th>is_attack</th>\n",
       "      <th>is_attack_supervised</th>\n",
       "      <th>likelihood</th>\n",
       "    </tr>\n",
       "  </thead>\n",
       "  <tbody>\n",
       "    <tr>\n",
       "      <th>344</th>\n",
       "      <td>172.16.1.52</td>\n",
       "      <td>172.16.1.196</td>\n",
       "      <td>307.0</td>\n",
       "      <td>1.612986e+09</td>\n",
       "      <td>100.000000</td>\n",
       "      <td>1</td>\n",
       "      <td>9.012111e-01</td>\n",
       "      <td>12.738589</td>\n",
       "    </tr>\n",
       "    <tr>\n",
       "      <th>343</th>\n",
       "      <td>172.16.1.196</td>\n",
       "      <td>172.16.1.52</td>\n",
       "      <td>307.0</td>\n",
       "      <td>1.612986e+09</td>\n",
       "      <td>100.000000</td>\n",
       "      <td>1</td>\n",
       "      <td>9.012111e-01</td>\n",
       "      <td>12.738589</td>\n",
       "    </tr>\n",
       "    <tr>\n",
       "      <th>183</th>\n",
       "      <td>172.16.1.52</td>\n",
       "      <td>50.245.225.205</td>\n",
       "      <td>310.0</td>\n",
       "      <td>1.612981e+09</td>\n",
       "      <td>100.000000</td>\n",
       "      <td>1</td>\n",
       "      <td>9.923349e-01</td>\n",
       "      <td>12.863071</td>\n",
       "    </tr>\n",
       "    <tr>\n",
       "      <th>184</th>\n",
       "      <td>50.245.225.205</td>\n",
       "      <td>172.16.1.52</td>\n",
       "      <td>310.0</td>\n",
       "      <td>1.612981e+09</td>\n",
       "      <td>100.000000</td>\n",
       "      <td>1</td>\n",
       "      <td>9.923349e-01</td>\n",
       "      <td>12.863071</td>\n",
       "    </tr>\n",
       "    <tr>\n",
       "      <th>349</th>\n",
       "      <td>172.16.1.52</td>\n",
       "      <td>73.180.143.70</td>\n",
       "      <td>315.0</td>\n",
       "      <td>1.612986e+09</td>\n",
       "      <td>100.000000</td>\n",
       "      <td>1</td>\n",
       "      <td>9.999071e-01</td>\n",
       "      <td>13.070539</td>\n",
       "    </tr>\n",
       "    <tr>\n",
       "      <th>...</th>\n",
       "      <td>...</td>\n",
       "      <td>...</td>\n",
       "      <td>...</td>\n",
       "      <td>...</td>\n",
       "      <td>...</td>\n",
       "      <td>...</td>\n",
       "      <td>...</td>\n",
       "      <td>...</td>\n",
       "    </tr>\n",
       "    <tr>\n",
       "      <th>139</th>\n",
       "      <td>172.16.1.52</td>\n",
       "      <td>172.16.1.196</td>\n",
       "      <td>1866.0</td>\n",
       "      <td>1.612986e+09</td>\n",
       "      <td>100.000000</td>\n",
       "      <td>2</td>\n",
       "      <td>2.236324e-45</td>\n",
       "      <td>77.427386</td>\n",
       "    </tr>\n",
       "    <tr>\n",
       "      <th>143</th>\n",
       "      <td>10.3.252.33</td>\n",
       "      <td>172.16.1.241</td>\n",
       "      <td>1965.0</td>\n",
       "      <td>1.612985e+09</td>\n",
       "      <td>0.152672</td>\n",
       "      <td>2</td>\n",
       "      <td>2.817702e-95</td>\n",
       "      <td>81.535270</td>\n",
       "    </tr>\n",
       "    <tr>\n",
       "      <th>144</th>\n",
       "      <td>10.3.252.33</td>\n",
       "      <td>172.16.1.241</td>\n",
       "      <td>2034.0</td>\n",
       "      <td>1.612986e+09</td>\n",
       "      <td>0.245821</td>\n",
       "      <td>2</td>\n",
       "      <td>1.044315e-98</td>\n",
       "      <td>84.398340</td>\n",
       "    </tr>\n",
       "    <tr>\n",
       "      <th>142</th>\n",
       "      <td>172.16.1.196</td>\n",
       "      <td>172.16.1.52</td>\n",
       "      <td>2410.0</td>\n",
       "      <td>1.612986e+09</td>\n",
       "      <td>100.000000</td>\n",
       "      <td>2</td>\n",
       "      <td>9.299530e-73</td>\n",
       "      <td>100.000000</td>\n",
       "    </tr>\n",
       "    <tr>\n",
       "      <th>141</th>\n",
       "      <td>172.16.1.52</td>\n",
       "      <td>172.16.1.196</td>\n",
       "      <td>2410.0</td>\n",
       "      <td>1.612986e+09</td>\n",
       "      <td>100.000000</td>\n",
       "      <td>2</td>\n",
       "      <td>9.299530e-73</td>\n",
       "      <td>100.000000</td>\n",
       "    </tr>\n",
       "  </tbody>\n",
       "</table>\n",
       "<p>353 rows × 8 columns</p>\n",
       "</div>"
      ],
      "text/plain": [
       "           sourceIP          destIP  numOfRequest          time  \\\n",
       "344     172.16.1.52    172.16.1.196         307.0  1.612986e+09   \n",
       "343    172.16.1.196     172.16.1.52         307.0  1.612986e+09   \n",
       "183     172.16.1.52  50.245.225.205         310.0  1.612981e+09   \n",
       "184  50.245.225.205     172.16.1.52         310.0  1.612981e+09   \n",
       "349     172.16.1.52   73.180.143.70         315.0  1.612986e+09   \n",
       "..              ...             ...           ...           ...   \n",
       "139     172.16.1.52    172.16.1.196        1866.0  1.612986e+09   \n",
       "143     10.3.252.33    172.16.1.241        1965.0  1.612985e+09   \n",
       "144     10.3.252.33    172.16.1.241        2034.0  1.612986e+09   \n",
       "142    172.16.1.196     172.16.1.52        2410.0  1.612986e+09   \n",
       "141     172.16.1.52    172.16.1.196        2410.0  1.612986e+09   \n",
       "\n",
       "     acceptanceRate  is_attack  is_attack_supervised  likelihood  \n",
       "344      100.000000          1          9.012111e-01   12.738589  \n",
       "343      100.000000          1          9.012111e-01   12.738589  \n",
       "183      100.000000          1          9.923349e-01   12.863071  \n",
       "184      100.000000          1          9.923349e-01   12.863071  \n",
       "349      100.000000          1          9.999071e-01   13.070539  \n",
       "..              ...        ...                   ...         ...  \n",
       "139      100.000000          2          2.236324e-45   77.427386  \n",
       "143        0.152672          2          2.817702e-95   81.535270  \n",
       "144        0.245821          2          1.044315e-98   84.398340  \n",
       "142      100.000000          2          9.299530e-73  100.000000  \n",
       "141      100.000000          2          9.299530e-73  100.000000  \n",
       "\n",
       "[353 rows x 8 columns]"
      ]
     },
     "execution_count": 26,
     "metadata": {},
     "output_type": "execute_result"
    }
   ],
   "source": [
    "suspicious_activity['likelihood'] = suspicious_activity['likelihood'] * 100\n",
    "suspicious_activity.sort_values(by='numOfRequest',ascending=True)"
   ]
  },
  {
   "cell_type": "code",
   "execution_count": 27,
   "metadata": {},
   "outputs": [],
   "source": [
    "suspicious_activity['time'] = pd.to_datetime(suspicious_activity['time'],unit='s')\n",
    "df['time'] = pd.to_datetime(df['time'],unit='s')"
   ]
  },
  {
   "cell_type": "code",
   "execution_count": 28,
   "metadata": {
    "scrolled": false
   },
   "outputs": [
    {
     "data": {
      "image/png": "[encoded data removed]",
      "text/plain": [
       "<Figure size 432x288 with 1 Axes>"
      ]
     },
     "metadata": {
      "needs_background": "light"
     },
     "output_type": "display_data"
    },
    {
     "data": {
      "text/plain": [
       "<Figure size 432x288 with 0 Axes>"
      ]
     },
     "metadata": {},
     "output_type": "display_data"
    }
   ],
   "source": [
    "plt.scatter(suspicious_activity['time'], suspicious_activity['likelihood'], marker='.', edgecolors='white')\n",
    "plt.xlabel(\"time\")\n",
    "plt.ylabel(\"likelihood of attack\")\n",
    "plt.show()\n",
    "plt.savefig('suspicious_activity.png', dpi = 300)"
   ]
  },
  {
   "cell_type": "code",
   "execution_count": 29,
   "metadata": {},
   "outputs": [
    {
     "name": "stdout",
     "output_type": "stream",
     "text": [
      "There are total number of 281411.0 suspicious activities among the overall 822226 number of responses. \n",
      "The number of unique suspicious activities are 353 with the highest duplicate of 2410.0 among them.\n"
     ]
    }
   ],
   "source": [
    "number_of_suspicious = 0\n",
    "for index, line in suspicious_activity.iterrows():\n",
    "    number_of_suspicious = number_of_suspicious + line[\"numOfRequest\"]\n",
    "print(\"There are total number of \" + str(number_of_suspicious) + \" suspicious activities among the overall \" + str(len_of_data) + \" number of responses. \")\n",
    "print(\"The number of unique suspicious activities are \" + str(len(suspicious_activity)) + \" with the highest duplicate of \" + str(suspicious_activity[\"numOfRequest\"].max()) + \" among them.\")"
   ]
  },
  {
   "cell_type": "code",
   "execution_count": 30,
   "metadata": {},
   "outputs": [],
   "source": [
    "df.to_csv('result.csv')\n",
    "suspicious_activity.to_csv('suspicious_activity.csv')"
   ]
  },
  {
   "cell_type": "markdown",
   "metadata": {},
   "source": [
    "<b>Keywords</b>: log analysis, machine learning, behavior analysis, unsupervised learning, supervised learning.\n",
    "\n",
    "Detecting web attacks using machine learning is an area that has drawn attention and requires continuous research and development.  This project analyzes 822,226 log records from a company's web login page in a 5 hour range. After cleaning and pre-processing the data, the algorithm detected records that could potentially be attacks. It then calculated the likeihood (of attacks) based on the abmormal behaviors. \n",
    "\n",
    "The main idea is to use unsupervised learning to better understand the distribution of the input data. Supervised learning is then applied to generate predictions. As a result, the algorithm could learn how to predict/cassify on output from new inputs. Reinforment learning (RL) learns from experiences over time. It can be considerd with more data feed into the system. \n",
    "\n",
    "The project first loads the input data into a pandas dataframe, then it removes the features that are not of interests to be used in detecting attacks. Next, the data are \"compressed\" from 800,000+ to around 40,000 by combining the records that have the same source and destination ip addresses in the same unit time. The higher the compression rate, the more the duplications in the dataset. This significantly improved the efficiency of machine learning. Unsupervised machine learning is applied to the dataset using K-means clustering. The output three clusters are labeled not-suspicious, suspicious, and gray (transition) area. \n",
    "\n",
    "The pre-processed data are splitted into 0.66/0.33 for training/testing to further analyze the likelihood of each response's abnormal behaviors. Using results (three clusters) from the unsupervised learning as a superviser, the algorithm continues apply supervised machine learning to discover the threats. In addition to areas that are considered \"confident\" or \"no confident\", the transition (gray) area is further analyzed using k-mean clustering to seperate into 2 clusters, labeled as \"more suspicious\" and \"less suspicious\". The \"more suspicious\" tags are then added into the suspicious_activity dataset. By doing so it ensures the machine does not miss any respons that get filtered out from the analysis but still remain an abnormal behavior. The likelihood of the suspicious is calculated based on the percentage over the maximum response per second.\n",
    "\n",
    "The initial approach of this problem was to use k-mean clustering based on how much time it took to process the response. However, this is not significant due to the delay from each server and unknown source of the dataset being analyzed. After researching on the definition of abnormal behaviors in reality, most of the features are filtered out because they do not have much impact in analyzing attacks. An attack for a general log-in page is defined as multiple visits, responses, callbacks in a short period of time. Thus, pre-processing the data by combining each duplicate responsed in the same second helps determine the responses' number of visits that stands out.\n",
    "\n",
    "The 3-2 two-tier clussing technique helps the machine narrows down the suspicious activities. If the k-means clustering is applied only once with 2 clusters, the uncertain groups of dataset would possibly be wrong for the result. Therefore, creating a gray (transition) area in the middle of two certainties helps detecting the potential attacks that could be missed.\n",
    "\n",
    "The result is saved into result.csv and all detected attacks are saved in the suspicious_activity.csv"
   ]
  },
  {
   "cell_type": "markdown",
   "metadata": {},
   "source": [
    "References:"
   ]
  },
  {
   "cell_type": "markdown",
   "metadata": {},
   "source": [
    "<li>Gong, X., Zhou, Y., Bi, Y., He, M., Sheng, S., Qiu, H., He, R., & Lu, J. (2019, October 3). Estimating web attack detection via model uncertainty from inaccurate annotation. IEEE Xplore. https://ieeexplore.ieee.org/abstract/document/8854029. \n",
    "<br>\n",
    "    \n",
    "<i>This article illustrates the potential attacks in log records that are not successfully recorded, which are label as \"unknown\". This project is aware of the situation from this article. All the unknown log flow records has no source and destinition ip address, therefore are all filtered out before creating the panda dataframe to avoid reducing the accuracy of the result.</i></li>"
   ]
  },
  {
   "cell_type": "markdown",
   "metadata": {},
   "source": [
    "<li>Tian, Z., Luo, C., Qiu, J., Du, X., & Guizani, M. (2019, August 30). A distributed deep learning system for web attack detection on edge devices. IEEE Xplore. https://ieeexplore.ieee.org/document/8821336. \n",
    "<br>\n",
    "    \n",
    "<i>In this article, the author developed a machine learning model using deep learning to detect web attacks by analyzing its URLs. The result has high accuracy. The approach of machine learning was inpired into this project in which the arthor created a system that solves challenges in the paradigm of the Edge of Things.</i></li>"
   ]
  },
  {
   "cell_type": "markdown",
   "metadata": {},
   "source": [
    "<li>Géron, A. (2019). Hands-On Machine Learning with Scikit-Learn, Keras, and TensorFlow, 2nd Edition. O'Reilly Media, Inc.\n",
    "<br>\n",
    "    \n",
    "<i>The idea of using K-means clustering, sklearn, data split, training, and testing machine learning algorithms to apply into this project is inspired from this book. </i> </li>"
   ]
  },
  {
   "cell_type": "markdown",
   "metadata": {},
   "source": [
    "<li>Torrano-Gimenez, C., Franke, K., Alvarez, G., & Nguyen, H. T. (2012, August 29). Combining expert knowledge with automatic feature extraction for reliable web attack detection. https://onlinelibrary.wiley.com/doi/epdf/10.1002/sec.603. \n",
    "<br>\n",
    "    \n",
    "<i>This article discusses the feature construction and feature selection of the web attack detection. This project applied the idea of omiting the features that are not intertested in attack detection.</i> </li>"
   ]
  },
  {
   "cell_type": "markdown",
   "metadata": {},
   "source": [
    "<li>Betarte, G., Pardo, Á., &amp; Martínez, R. (2019, January 17). Web application attacks detection using machine learning techniques. IEEE Xplore. https://ieeexplore.ieee.org/document/8614199. \n",
    "<br>\n",
    "\n",
    "\n",
    "</li>"
   ]
  },
  {
   "cell_type": "markdown",
   "metadata": {},
   "source": [
    "<li>Abdulraheem, M., &amp; Ibraheem, N. (2019). A DETAILED ANALYSIS OF NEW INTRUSION DETECTION DATASET. http://www.jatit.org/volumes/Vol97No17/4Vol97No17.pdf</li>"
   ]
  },
  {
   "cell_type": "markdown",
   "metadata": {},
   "source": [
    "https://github.com/p-neumann/User-Behavior-Analysis-and-Prediction"
   ]
  },
  {
   "cell_type": "code",
   "execution_count": null,
   "metadata": {},
   "outputs": [],
   "source": []
  }
 ],
 "metadata": {
  "kernelspec": {
   "display_name": "Python 3",
   "language": "python",
   "name": "python3"
  },
  "language_info": {
   "codemirror_mode": {
    "name": "ipython",
    "version": 3
   },
   "file_extension": ".py",
   "mimetype": "text/x-python",
   "name": "python",
   "nbconvert_exporter": "python",
   "pygments_lexer": "ipython3",
   "version": "3.8.8"
  }
 },
 "nbformat": 4,
 "nbformat_minor": 4
}
